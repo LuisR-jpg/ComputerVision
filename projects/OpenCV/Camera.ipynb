{
 "cells": [
  {
   "cell_type": "code",
   "execution_count": 14,
   "metadata": {},
   "outputs": [],
   "source": [
    "import cv2"
   ]
  },
  {
   "cell_type": "code",
   "execution_count": 15,
   "metadata": {},
   "outputs": [],
   "source": [
    "cap = cv2.VideoCapture(-1)"
   ]
  },
  {
   "cell_type": "code",
   "execution_count": 16,
   "metadata": {},
   "outputs": [],
   "source": [
    "i = 1\n",
    "while True:\n",
    "    ret, frame = cap.read()\n",
    "    mirror = cv2.flip(frame, 1)\n",
    "    cv2.imshow(\"Camara\", mirror)\n",
    "\n",
    "\n",
    "    if cv2.waitKey(1) == 27:\n",
    "        break\n",
    "    if cv2.waitKey(2) == ord(' '):\n",
    "        cv2.imshow(\"Foto\", mirror)\n",
    "        cv2.imwrite(f'./captures/image_{i}.jpg', mirror)\n",
    "        i += 1"
   ]
  },
  {
   "cell_type": "code",
   "execution_count": 17,
   "metadata": {},
   "outputs": [
    {
     "name": "stdout",
     "output_type": "stream",
     "text": [
      "Photo taken\n"
     ]
    }
   ],
   "source": [
    "i = 1 \n",
    "while True:\n",
    "    key = -1\n",
    "    while key == -1:\n",
    "        key = cv2.waitKey(1)\n",
    "        ret, frame = cap.read()\n",
    "        mirror = cv2.flip(frame, 1)\n",
    "        cv2.imshow(\"Camara\", mirror)\n",
    "\n",
    "    \n",
    "    if key == 27:\n",
    "        break\n",
    "    if key == ord(' '):\n",
    "        print(\"Photo taken\")\n",
    "        cv2.imshow(\"Foto\", mirror)\n",
    "        cv2.imwrite(f'./captures/image_{i}.jpg', mirror)\n",
    "        i += 1"
   ]
  },
  {
   "cell_type": "code",
   "execution_count": 18,
   "metadata": {},
   "outputs": [],
   "source": [
    "cap.release()\n",
    "cv2.destroyAllWindows()"
   ]
  }
 ],
 "metadata": {
  "kernelspec": {
   "display_name": "Python 3.8.10 64-bit",
   "language": "python",
   "name": "python3"
  },
  "language_info": {
   "codemirror_mode": {
    "name": "ipython",
    "version": 3
   },
   "file_extension": ".py",
   "mimetype": "text/x-python",
   "name": "python",
   "nbconvert_exporter": "python",
   "pygments_lexer": "ipython3",
   "version": "3.8.10"
  },
  "orig_nbformat": 4,
  "vscode": {
   "interpreter": {
    "hash": "916dbcbb3f70747c44a77c7bcd40155683ae19c65e1c03b4aa3499c5328201f1"
   }
  }
 },
 "nbformat": 4,
 "nbformat_minor": 2
}
