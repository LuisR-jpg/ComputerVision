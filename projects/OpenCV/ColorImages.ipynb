{
 "cells": [
  {
   "cell_type": "markdown",
   "metadata": {},
   "source": [
    "# Draw cool stuff with matplotlib"
   ]
  },
  {
   "cell_type": "markdown",
   "metadata": {},
   "source": [
    "## Utils"
   ]
  },
  {
   "cell_type": "code",
   "execution_count": 9,
   "metadata": {},
   "outputs": [],
   "source": [
    "import numpy as np\n",
    "import cv2 as cv"
   ]
  },
  {
   "cell_type": "markdown",
   "metadata": {},
   "source": [
    "## Flags"
   ]
  },
  {
   "cell_type": "code",
   "execution_count": 10,
   "metadata": {},
   "outputs": [],
   "source": [
    "image = np.zeros((400, 600, 3), dtype = \"uint8\")\n",
    "# Provide colors in BGR\n",
    "def makeFlag(lines = [], vertical = True, name = \"Flag\", draw = True):\n",
    "    h, w, _ = image.shape\n",
    "    size = (w if vertical else h) // len(lines)\n",
    "    for i, c in enumerate(lines):\n",
    "        if vertical: image[:, i * size: (i + 1) * size] = c\n",
    "        else: image[i * size: (i + 1) * size] = c\n",
    "    if draw: cv.imshow(name, image)\n",
    "    else: return image"
   ]
  },
  {
   "cell_type": "code",
   "execution_count": 11,
   "metadata": {},
   "outputs": [],
   "source": [
    "def makeGradient(nDivs = 255):\n",
    "    return [[i * 255 / (nDivs - 1)] * 3 for i in range(nDivs)]"
   ]
  },
  {
   "cell_type": "code",
   "execution_count": 12,
   "metadata": {},
   "outputs": [],
   "source": [
    "makeFlag([(255, 255, 255), (0, 0, 210)], False, \"Poland\")\n",
    "makeFlag([(98, 155, 22), (255, 255, 255), (62, 136, 255)], name = \"Ireland\")\n",
    "makeFlag([(91, 32, 0), (255, 255, 255), (64, 51, 239), (64, 51, 239), (255, 255, 255), (91, 32, 0)], False, \"Costa Rica\")"
   ]
  },
  {
   "cell_type": "code",
   "execution_count": 13,
   "metadata": {},
   "outputs": [],
   "source": [
    "# Japan\n",
    "img = makeFlag([(255, 255, 255)], draw = False)\n",
    "img = cv.circle(img, (img.shape[1] // 2, img.shape[0] // 2), 50, (0, 0, 210), thickness = -1)\n",
    "cv.imshow(\"Japan\", img)"
   ]
  },
  {
   "cell_type": "markdown",
   "metadata": {},
   "source": [
    "## Gradient"
   ]
  },
  {
   "cell_type": "code",
   "execution_count": 14,
   "metadata": {},
   "outputs": [],
   "source": [
    "nDivs = 17\n",
    "makeFlag(makeGradient(nDivs), name = \"Gradient\")"
   ]
  },
  {
   "cell_type": "markdown",
   "metadata": {},
   "source": [
    "## Circles"
   ]
  },
  {
   "cell_type": "code",
   "execution_count": 15,
   "metadata": {},
   "outputs": [],
   "source": [
    "gradient = makeGradient(nDivs)\n",
    "img = makeFlag([[0] * 3], draw = False)\n",
    "for i, c in enumerate(gradient):\n",
    "    #img = cv.circle(img, (img.shape[1] // 2, img.shape[0] // 2), int((nDivs - i) * (np.max([img.shape]) / 2) // nDivs), c, thickness = -1)\n",
    "    img = cv.circle(img, (img.shape[1] // 2, img.shape[0] // 2), int((nDivs - i) * (np.max([img.shape]) / 2) // nDivs), [(i % 2) * 255] * 3, thickness = -1)\n",
    "cv.imshow(\"Circles\", img)"
   ]
  },
  {
   "cell_type": "code",
   "execution_count": 16,
   "metadata": {},
   "outputs": [],
   "source": [
    "cv.waitKey(0)\n",
    "cv.destroyAllWindows()"
   ]
  }
 ],
 "metadata": {
  "kernelspec": {
   "display_name": "Python 3.8.10 64-bit",
   "language": "python",
   "name": "python3"
  },
  "language_info": {
   "codemirror_mode": {
    "name": "ipython",
    "version": 3
   },
   "file_extension": ".py",
   "mimetype": "text/x-python",
   "name": "python",
   "nbconvert_exporter": "python",
   "pygments_lexer": "ipython3",
   "version": "3.8.10"
  },
  "orig_nbformat": 4,
  "vscode": {
   "interpreter": {
    "hash": "916dbcbb3f70747c44a77c7bcd40155683ae19c65e1c03b4aa3499c5328201f1"
   }
  }
 },
 "nbformat": 4,
 "nbformat_minor": 2
}
