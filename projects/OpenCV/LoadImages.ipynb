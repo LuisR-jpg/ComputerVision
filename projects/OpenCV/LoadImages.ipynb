{
 "cells": [
  {
   "cell_type": "code",
   "execution_count": 304,
   "metadata": {},
   "outputs": [],
   "source": [
    "import cv2 as cv\n",
    "import numpy as np"
   ]
  },
  {
   "cell_type": "code",
   "execution_count": 305,
   "metadata": {},
   "outputs": [],
   "source": [
    "img = cv.imread(\"images/imagen_6.jpg\")\n",
    "\n",
    "cv.imshow(\"Original\", img)"
   ]
  },
  {
   "cell_type": "code",
   "execution_count": 306,
   "metadata": {},
   "outputs": [
    {
     "name": "stdout",
     "output_type": "stream",
     "text": [
      "Shape of the image (250, 500, 3)\n"
     ]
    }
   ],
   "source": [
    "print(f'Shape of the image {img.shape}')"
   ]
  },
  {
   "cell_type": "code",
   "execution_count": 307,
   "metadata": {},
   "outputs": [],
   "source": [
    "imgGray = cv.cvtColor(img, cv.COLOR_BGR2GRAY)\n",
    "cv.imshow(\"Imagen Gray\", imgGray)"
   ]
  },
  {
   "cell_type": "code",
   "execution_count": 308,
   "metadata": {},
   "outputs": [],
   "source": [
    "imgHSV = cv.cvtColor(img, cv.COLOR_BGR2HSV)\n",
    "cv.imshow(\"Imagen HSV\", imgHSV)"
   ]
  },
  {
   "cell_type": "code",
   "execution_count": 309,
   "metadata": {},
   "outputs": [],
   "source": [
    "imgLAB = cv.cvtColor(img, cv.COLOR_BGR2LAB)\n",
    "cv.imshow(\"Imagen LAB\", imgLAB)"
   ]
  },
  {
   "cell_type": "code",
   "execution_count": 310,
   "metadata": {},
   "outputs": [],
   "source": [
    "b, g, r = cv.split(img)\n",
    "cv.imshow(\"Azul\", b)\n",
    "cv.imshow(\"Green\", g)\n",
    "cv.imshow(\"Red\", r)"
   ]
  },
  {
   "cell_type": "code",
   "execution_count": 311,
   "metadata": {},
   "outputs": [],
   "source": [
    "factor = 1.2\n",
    "rr = cv.multiply(r, factor)\n",
    "fusion = cv.merge([b, g, rr])\n",
    "cv.imshow(\"Rojo potenciado\", fusion)"
   ]
  },
  {
   "cell_type": "code",
   "execution_count": 312,
   "metadata": {},
   "outputs": [],
   "source": [
    "imgBlur = cv.GaussianBlur(img, (5, 5), 5)\n",
    "cv.imshow(\"Imagen borrosa\", imgBlur)"
   ]
  },
  {
   "cell_type": "code",
   "execution_count": 313,
   "metadata": {},
   "outputs": [],
   "source": [
    "imgCanny = cv.Canny(img, 100, 100)\n",
    "cv.imshow(\"Bordes\", imgCanny)"
   ]
  },
  {
   "cell_type": "code",
   "execution_count": 314,
   "metadata": {},
   "outputs": [],
   "source": [
    "imgTam = cv.resize(img, (0, 0), fx = 1.5, fy = 1.5)\n",
    "cv.imshow(\"150%\", imgTam)"
   ]
  },
  {
   "cell_type": "code",
   "execution_count": 315,
   "metadata": {},
   "outputs": [],
   "source": [
    "imgTam = cv.resize(img, (2 * img.shape[1], 2 * img.shape[0]))\n",
    "cv.imshow(\"2xSize\", imgTam)"
   ]
  },
  {
   "cell_type": "code",
   "execution_count": 316,
   "metadata": {},
   "outputs": [],
   "source": [
    "imgTam = cv.resize(img, (2 * img.shape[1], 2 * img.shape[0]), interpolation = cv.INTER_CUBIC)\n",
    "cv.imshow(\"2xSize Interpolated\", imgTam)"
   ]
  },
  {
   "cell_type": "code",
   "execution_count": 317,
   "metadata": {},
   "outputs": [],
   "source": [
    "imgCrop = img[100:300, 200:400]\n",
    "cv.imshow(\"Crop\", imgCrop)"
   ]
  },
  {
   "cell_type": "code",
   "execution_count": 318,
   "metadata": {},
   "outputs": [],
   "source": [
    "imgSquare = cv.rectangle(img, (175, 50), (385, 220), (0, 255, 0), thickness = 2) # Upper-left, Lower-right, color\n",
    "imgTxt = cv.putText(imgSquare, \"Lena\", (190, 45), cv.FONT_HERSHEY_TRIPLEX, 0.8, (0, 255, 0), 2) # Position, factor, color, thickness\n",
    "cv.imshow(\"Imagen con cuadro\", imgSquare)"
   ]
  },
  {
   "cell_type": "code",
   "execution_count": 319,
   "metadata": {},
   "outputs": [],
   "source": [
    "cv.waitKey(0) # The argument is the number of the image showing up in ms. If 0, stays up 4ever\n",
    "cv.destroyAllWindows()"
   ]
  }
 ],
 "metadata": {
  "kernelspec": {
   "display_name": "Python 3.8.10 64-bit",
   "language": "python",
   "name": "python3"
  },
  "language_info": {
   "codemirror_mode": {
    "name": "ipython",
    "version": 3
   },
   "file_extension": ".py",
   "mimetype": "text/x-python",
   "name": "python",
   "nbconvert_exporter": "python",
   "pygments_lexer": "ipython3",
   "version": "3.8.10"
  },
  "orig_nbformat": 4,
  "vscode": {
   "interpreter": {
    "hash": "916dbcbb3f70747c44a77c7bcd40155683ae19c65e1c03b4aa3499c5328201f1"
   }
  }
 },
 "nbformat": 4,
 "nbformat_minor": 2
}
