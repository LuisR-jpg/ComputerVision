{
 "cells": [
  {
   "cell_type": "code",
   "execution_count": 114,
   "metadata": {},
   "outputs": [],
   "source": [
    "import cv2 \n",
    "\n",
    "# ========================================= Videos ==============================================\n",
    "\n",
    "# Loading video\n",
    "cap = cv2.VideoCapture(\"images/video.mp4\")"
   ]
  },
  {
   "cell_type": "code",
   "execution_count": 115,
   "metadata": {},
   "outputs": [],
   "source": [
    "while True:\n",
    "    ret,video = cap.read()\n",
    "    if ret == True:\n",
    "        cv2.imshow(\"Video\", video)\n",
    "        if cv2.waitKey(10) & 0xFF == ord(\"q\"):\n",
    "            break\n",
    "    else:\n",
    "        break"
   ]
  },
  {
   "cell_type": "code",
   "execution_count": 116,
   "metadata": {},
   "outputs": [
    {
     "name": "stdout",
     "output_type": "stream",
     "text": [
      "Ancho:  960\n",
      "Alto:  540\n",
      "Frames/sec:  30\n",
      "Numero de frames:  900\n"
     ]
    }
   ],
   "source": [
    "# Properties of the Video\n",
    "\n",
    "ancho = int(cap.get(3))\n",
    "alto = int(cap.get(4))\n",
    "fps = int(cap.get(5))\n",
    "num_frames = int(cap.get(7))\n",
    "print(\"Ancho: \", ancho)\n",
    "print(\"Alto: \", alto)\n",
    "print(\"Frames/sec: \", fps)\n",
    "print(\"Numero de frames: \", num_frames)"
   ]
  },
  {
   "cell_type": "code",
   "execution_count": 117,
   "metadata": {},
   "outputs": [],
   "source": [
    "# Changing size\n",
    "\n",
    "scale = 0.3\n",
    "\n",
    "cap = cv2.VideoCapture(\"images/video.mp4\")\n",
    "\n",
    "while True:\n",
    "    ret, video = cap.read()\n",
    "    if ret == True:\n",
    "        vidsmall = cv2.resize(video, (0, 0), fx=scale, fy=scale)\n",
    "        cv2.imshow(\"Video reducido\", vidsmall)\n",
    "        if cv2.waitKey(10) & 0xFF == ord(\"q\"):\n",
    "            break\n",
    "    else:\n",
    "        break\n"
   ]
  },
  {
   "cell_type": "code",
   "execution_count": 118,
   "metadata": {},
   "outputs": [
    {
     "name": "stdout",
     "output_type": "stream",
     "text": [
      "Video guardado correctamente\n"
     ]
    }
   ],
   "source": [
    "# Saving small video\n",
    "\n",
    "anchoS = int(scale * ancho)\n",
    "altoS = int(scale * alto)\n",
    "\n",
    "cap = cv2.VideoCapture(\"images/video.mp4\")\n",
    "\n",
    "codec = cv2.VideoWriter_fourcc(*\"mp4v\")\n",
    "output = cv2.VideoWriter(\"images/video_small.mp4\", codec, 30.0, (anchoS, altoS))\n",
    "\n",
    "while cap.isOpened():\n",
    "    ret, video = cap.read()\n",
    "    if ret == True:\n",
    "        \n",
    "        vidsmall = cv2.resize(video, (0, 0), fx=scale, fy=scale)\n",
    "        output.write(vidsmall)\n",
    "        #cv2.imshow(\"Video small\",vidsmall)\n",
    "\n",
    "        # if cv2.waitKey(1) & 0xFF == ord(\"q\"):\n",
    "        #     break\n",
    "    else:\n",
    "        break\n",
    "print(\"Video guardado correctamente\")\n",
    "output.release()"
   ]
  },
  {
   "cell_type": "code",
   "execution_count": 119,
   "metadata": {},
   "outputs": [],
   "source": [
    "# Changing to grey\n",
    "\n",
    "cap = cv2.VideoCapture(\"images/video_small.mp4\")\n",
    "i = 0\n",
    "while True:\n",
    "    ret,video = cap.read()\n",
    "    if ret == True:\n",
    "        vidGrey = cv2.cvtColor(video,cv2.COLOR_BGR2GRAY)\n",
    "        cv2.imshow(\"Video Gris\", vidGrey)\n",
    "        if cv2.waitKey(10) & 0xFF == ord(\"q\"):\n",
    "            break\n",
    "    else:\n",
    "        break"
   ]
  },
  {
   "cell_type": "code",
   "execution_count": 120,
   "metadata": {},
   "outputs": [],
   "source": [
    "# Binary Video (Threshold)\n",
    "\n",
    "cap = cv2.VideoCapture(\"images/video_small.mp4\")\n",
    "\n",
    "while True:\n",
    "    ret,video = cap.read()\n",
    "    if ret == True:\n",
    "        vidGrey = cv2.cvtColor(video,cv2.COLOR_BGR2GRAY)\n",
    "        ret, imgthresh = cv2.threshold(vidGrey, 125, 255, cv2.THRESH_BINARY)\n",
    "        cv2.imshow(\"Video Binario\", imgthresh)\n",
    "        if cv2.waitKey(10) & 0xFF == ord(\"q\"):\n",
    "            break\n",
    "    else:\n",
    "        break"
   ]
  },
  {
   "cell_type": "code",
   "execution_count": 121,
   "metadata": {},
   "outputs": [],
   "source": [
    "# Changing to HSV\n",
    "\n",
    "cap = cv2.VideoCapture(\"images/video_small.mp4\")\n",
    "\n",
    "while True:\n",
    "    ret,video = cap.read()\n",
    "    if ret == True:\n",
    "        vidHSV = cv2.cvtColor(video ,cv2.COLOR_BGR2HSV)\n",
    "        cv2.imshow(\"Video HSV\", vidHSV)\n",
    "        if cv2.waitKey(10) & 0xFF == ord(\"q\"):\n",
    "            break\n",
    "    else:\n",
    "        break"
   ]
  },
  {
   "cell_type": "code",
   "execution_count": 122,
   "metadata": {},
   "outputs": [],
   "source": [
    "# Changing to Blurry\n",
    "\n",
    "cap = cv2.VideoCapture(\"images/video_small.mp4\")\n",
    "\n",
    "while True:\n",
    "    ret,video = cap.read()\n",
    "    if ret == True:\n",
    "        vidBlur = cv2.GaussianBlur(video, (7,7), 10)\n",
    "        cv2.imshow(\"Video Borroso\", vidBlur)\n",
    "        if cv2.waitKey(10) & 0xFF == ord(\"q\"):\n",
    "            break\n",
    "    else:\n",
    "        break"
   ]
  },
  {
   "cell_type": "code",
   "execution_count": 123,
   "metadata": {},
   "outputs": [],
   "source": [
    "# Changing to edges\n",
    "\n",
    "cap = cv2.VideoCapture(\"images/video_small.mp4\")\n",
    "\n",
    "while True:\n",
    "    ret,video = cap.read()\n",
    "    if ret == True:\n",
    "        vidCanny = cv2.Canny(video,100,100)\n",
    "        cv2.imshow(\"Video Bordes\", vidCanny)\n",
    "        if cv2.waitKey(10) & 0xFF == ord(\"q\"):\n",
    "            break\n",
    "    else:\n",
    "        break"
   ]
  },
  {
   "cell_type": "code",
   "execution_count": 124,
   "metadata": {},
   "outputs": [],
   "source": [
    "# Cropping a video\n",
    "\n",
    "cap = cv2.VideoCapture(\"images/video_small.mp4\")\n",
    "\n",
    "while True:\n",
    "    ret,video = cap.read()\n",
    "    if ret == True:\n",
    "        vidCrop = video[100:300, 100:300]\n",
    "        cv2.imshow(\"Video Recortado\", vidCrop)\n",
    "        if cv2.waitKey(10) & 0xFF == ord(\"q\"):\n",
    "            break\n",
    "    else:\n",
    "        break"
   ]
  },
  {
   "cell_type": "code",
   "execution_count": 125,
   "metadata": {},
   "outputs": [],
   "source": [
    "# Better detection\n",
    "\n",
    "cap = cv2.VideoCapture(\"images/video_small.mp4\")\n",
    "\n",
    "while True:\n",
    "    ret,video = cap.read()\n",
    "    if ret == True:\n",
    "        vidGrey = cv2.cvtColor(video,cv2.COLOR_BGR2GRAY)\n",
    "        vidBlur = cv2.GaussianBlur(vidGrey, (5,5), 10)\n",
    "        vidCanny = cv2.Canny(vidBlur,50,50)\n",
    "        cv2.imshow(\"Video Bordes Mejorados\", vidCanny)\n",
    "        if cv2.waitKey(10) & 0xFF == ord(\"q\"):\n",
    "            break\n",
    "    else:\n",
    "        break"
   ]
  },
  {
   "cell_type": "code",
   "execution_count": 126,
   "metadata": {},
   "outputs": [],
   "source": [
    "# Multiple videos on a single canvas\n",
    "\n",
    "cap = cv2.VideoCapture(\"images/video_small.mp4\")\n",
    "\n",
    "while True:\n",
    "    ret,video = cap.read()\n",
    "    ancho = int(cap.get(3))\n",
    "    alto = int(cap.get(4))\n",
    "    if ret == True:\n",
    "\n",
    "        # Original video\n",
    "        vidOrig = cv2.resize(video, (0, 0), fx=0.5, fy=0.5)\n",
    "        \n",
    "        # Grey Video\n",
    "        vidGrey = cv2.cvtColor(vidOrig,cv2.COLOR_BGR2GRAY)\n",
    "        \n",
    "        \n",
    "        # Better edge detection Grey\n",
    "        vidGrey1 = cv2.cvtColor(vidOrig,cv2.COLOR_BGR2GRAY)\n",
    "        ret, vidthresh = cv2.threshold(vidGrey1, 125, 255, cv2.THRESH_BINARY)\n",
    "        vidBetter1 = cv2.Canny(vidthresh,100,100)\n",
    "        \n",
    "        # Better edge detection with blur\n",
    "        vidGrey2 = cv2.cvtColor(vidOrig,cv2.COLOR_BGR2GRAY)\n",
    "        vidBlur2 = cv2.GaussianBlur(vidGrey2, (5,5), cv2.BORDER_DEFAULT)\n",
    "        vidBetter2 = cv2.Canny(vidBlur2,100,100)\n",
    "        \n",
    "        grid = cv2.vconcat([cv2.hconcat([vidthresh, vidBlur2]), cv2.hconcat([vidBetter1, vidBetter2])])\n",
    "\n",
    "        \n",
    "        cv2.imshow(\"Video Multiple\", grid)\n",
    "        if cv2.waitKey(30) & 0xFF == ord(\"q\"):\n",
    "            break\n",
    "    else:\n",
    "        break"
   ]
  },
  {
   "cell_type": "code",
   "execution_count": 127,
   "metadata": {},
   "outputs": [],
   "source": [
    "cv2.destroyAllWindows()"
   ]
  }
 ],
 "metadata": {
  "kernelspec": {
   "display_name": "Python 3.8.10 64-bit",
   "language": "python",
   "name": "python3"
  },
  "language_info": {
   "codemirror_mode": {
    "name": "ipython",
    "version": 3
   },
   "file_extension": ".py",
   "mimetype": "text/x-python",
   "name": "python",
   "nbconvert_exporter": "python",
   "pygments_lexer": "ipython3",
   "version": "3.8.10"
  },
  "orig_nbformat": 4,
  "vscode": {
   "interpreter": {
    "hash": "916dbcbb3f70747c44a77c7bcd40155683ae19c65e1c03b4aa3499c5328201f1"
   }
  }
 },
 "nbformat": 4,
 "nbformat_minor": 2
}
